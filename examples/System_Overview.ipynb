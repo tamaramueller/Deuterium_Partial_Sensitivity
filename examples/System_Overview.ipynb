{
 "cells": [
  {
   "source": [
    "# System overview\n",
    "This notebook is an \"executable\" version of the README file. It demonstrates the concepts presented in Section 4 of the manuscript."
   ],
   "cell_type": "markdown",
   "metadata": {}
  },
  {
   "cell_type": "code",
   "execution_count": null,
   "metadata": {},
   "outputs": [],
   "source": [
    "from deuterium import Variable, to_vec, random_symbols\n",
    "import symengine as se\n",
    "import numpy as np"
   ]
  },
  {
   "source": [
    "## Symbolic autodiff"
   ],
   "cell_type": "markdown",
   "metadata": {}
  },
  {
   "cell_type": "code",
   "execution_count": null,
   "metadata": {},
   "outputs": [],
   "source": [
    "a, b = se.symbols(\"a, b\")\n",
    "a = Variable(a)\n",
    "b = Variable(b)\n",
    "f = lambda a, b: a ** 2 + 2 * np.log(a * np.sqrt(a * b ** 3)) - np.exp(a + 2 * b) + 5\n",
    "result = f(a, b)\n",
    "print(result)\n",
    "result.backward()\n",
    "print(a.grad)\n",
    "print(b.grad)"
   ]
  },
  {
   "source": [
    "## Numeric autodiff"
   ],
   "cell_type": "markdown",
   "metadata": {}
  },
  {
   "cell_type": "code",
   "execution_count": null,
   "metadata": {},
   "outputs": [],
   "source": [
    "a, b = 2.0, 3.0\n",
    "a = Variable(a)\n",
    "b = Variable(b)\n",
    "f = (\n",
    "    lambda a, b: a ** 2\n",
    "    + 2 * np.log(a * np.sqrt(a * b ** 3))\n",
    "    - np.exp(a / 30.0 + 2 * np.sqrt(b))\n",
    "    + 5\n",
    ")\n",
    "result = f(a, b)\n",
    "print(result)\n",
    "result.backward()\n",
    "print(a.grad)\n",
    "print(b.grad)"
   ]
  },
  {
   "source": [
    "## Array computations"
   ],
   "cell_type": "markdown",
   "metadata": {}
  },
  {
   "cell_type": "code",
   "execution_count": null,
   "metadata": {},
   "outputs": [],
   "source": [
    "symbols = random_symbols(n=10, prefix=\"x\")  # generate symbols (x_0,...,x_9)\n",
    "symbol_array = np.array(symbols)\n",
    "inputs = to_vec(\n",
    "    symbol_array\n",
    ")  # converts the numpy array to an array of deuterium variables\n",
    "\n",
    "kernel = to_vec(\n",
    "    np.array(random_symbols(3, \"k\"))\n",
    ")  # create a convolution kernel and conver to a variable\n",
    "\n",
    "output = np.convolve(inputs, kernel) # convolve the inputs with the kernel\n",
    "output.mean().backward() # gradients can be calculated only w.r.t. a scalar, hence the mean operation\n",
    "\n",
    "print(inputs.flatten()[0].grad.simplify(rational=True))\n",
    "print(kernel.flatten()[0].grad.simplify(rational=True))"
   ]
  },
  {
   "source": [
    "## JIT compilation - full substitution"
   ],
   "cell_type": "markdown",
   "metadata": {}
  },
  {
   "cell_type": "code",
   "execution_count": null,
   "metadata": {},
   "outputs": [],
   "source": [
    "symbols = random_symbols(n=10, prefix=\"x\")  # generate symbols (x_0,...,x_9)\n",
    "symbol_array = np.array(symbols)\n",
    "inputs = to_vec(\n",
    "    symbol_array\n",
    ")  # converts the numpy array to an array of deuterium variables\n",
    "\n",
    "kernel = to_vec(\n",
    "    np.array(random_symbols(3, \"k\"))\n",
    ")  # create a convolution kernel and conver to a variable\n",
    "\n",
    "output = np.convolve(inputs, kernel)\n",
    "output.mean().backward()\n",
    "\n",
    "print(inputs.flatten()[0].grad.subs({\"k_0\": 0.5, \"k_1\": 0.25, \"k_2\": 0.75, \"k_3\": 0.8})) #substitute symbols with numeric values into the gradient."
   ]
  },
  {
   "source": [
    "## JIT compilation - partial substitution"
   ],
   "cell_type": "markdown",
   "metadata": {}
  },
  {
   "cell_type": "code",
   "execution_count": null,
   "metadata": {},
   "outputs": [],
   "source": [
    "symbols = random_symbols(n=10, prefix=\"x\")  # generate symbols (x_0,...,x_9)\n",
    "symbol_array = np.array(symbols)\n",
    "inputs = to_vec(\n",
    "    symbol_array\n",
    ")  # converts the numpy array to an array of deuterium variables\n",
    "\n",
    "kernel = to_vec(\n",
    "    np.array(random_symbols(3, \"k\"))\n",
    ")  # create a convolution kernel and conver to a variable\n",
    "\n",
    "output = np.convolve(inputs, kernel)\n",
    "output.mean().backward()\n",
    "\n",
    "partial_grad = (\n",
    "    inputs.flatten()[0].grad.subs({\"k_0\": 0.5, \"k_3\": 0.8}).simplify(rational=True)\n",
    ")\n",
    "print(partial_grad)\n",
    "full_grad = partial_grad.subs({\"k_1\": 0.5, \"k_2\": 0.45}) #substitute the rest\n",
    "print(full_grad)"
   ]
  },
  {
   "source": [
    "## AOT compilation"
   ],
   "cell_type": "markdown",
   "metadata": {}
  },
  {
   "cell_type": "code",
   "execution_count": null,
   "metadata": {},
   "outputs": [],
   "source": [
    "symbols = random_symbols(n=10, prefix=\"x\")  # generate symbols (x_0,...,x_9)\n",
    "symbol_array = np.array(symbols)\n",
    "inputs = to_vec(\n",
    "    symbol_array\n",
    ")  # converts the numpy array to an array of deuterium variables\n",
    "\n",
    "kernel = to_vec(\n",
    "    np.array(random_symbols(3, \"k\"))\n",
    ")  # create a convolution kernel and conver to a variable\n",
    "\n",
    "output = np.convolve(inputs, kernel)\n",
    "output.mean().backward()\n",
    "\n",
    "grad = [i.grad for i in kernel.flatten()] # gradients w.r.t kernel\n",
    "\n",
    "all_symbols = symbols + [s.data for s in kernel.flatten().tolist()] #variables in the function signature\n",
    "\n",
    "gradient_func = se.Lambdify(all_symbols, grad, cse=True, backend=\"llvm\") #compile with CSE and the LLVM back-end\n",
    "\n",
    "values = np.random.random((4, len(all_symbols))) #random \"batch\" of inputs with size 4.\n",
    "\n",
    "print(gradient_func(values)) #will print the gradient for every entry in the \"batch\""
   ]
  },
  {
   "source": [
    "## Persistence to `pickle`"
   ],
   "cell_type": "markdown",
   "metadata": {}
  },
  {
   "cell_type": "code",
   "execution_count": null,
   "metadata": {},
   "outputs": [],
   "source": [
    "import pickle\n",
    "_ = pickle.dumps(gradient_func)"
   ]
  }
 ],
 "metadata": {
  "kernelspec": {
   "name": "python3810jvsc74a57bd080de16acd05a1be528ce0a54647812ca306a5579e19b62ada97b7c01739c10fe",
   "display_name": "Python 3.8.10 64-bit ('deuterium': conda)",
   "language": "python"
  },
  "language_info": {
   "codemirror_mode": {
    "name": "ipython",
    "version": 3
   },
   "file_extension": ".py",
   "mimetype": "text/x-python",
   "name": "python",
   "nbconvert_exporter": "python",
   "pygments_lexer": "ipython3",
   "version": "3.8.10"
  }
 },
 "nbformat": 4,
 "nbformat_minor": 5
}