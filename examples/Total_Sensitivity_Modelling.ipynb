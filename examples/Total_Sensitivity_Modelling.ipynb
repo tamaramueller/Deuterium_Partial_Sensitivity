{
 "cells": [
  {
   "cell_type": "markdown",
   "id": "859f9537",
   "metadata": {},
   "source": [
    "## Section 5.2: Sensitivity modelling in neural networks\n",
    "### Total sensitivity modelling"
   ]
  },
  {
   "cell_type": "code",
   "execution_count": null,
   "id": "0859827d-e321-471d-9c32-a9f9e928aa70",
   "metadata": {},
   "outputs": [],
   "source": [
    "from deuterium import Variable, to_vec, random_symbols\n",
    "import symengine as se\n",
    "import numpy as np\n",
    "from sys import setrecursionlimit\n",
    "setrecursionlimit(1_000_000)\n",
    "from skimage.measure import block_reduce\n",
    "from scipy.optimize import minimize, shgo"
   ]
  },
  {
   "cell_type": "markdown",
   "id": "1d896682",
   "metadata": {},
   "source": [
    "Define some utility functions, notably the loss functions and tempered sigmoid activation functions."
   ]
  },
  {
   "cell_type": "code",
   "execution_count": null,
   "id": "527166f4-18c7-4d95-883a-fe65cb2c95b2",
   "metadata": {},
   "outputs": [],
   "source": [
    "to_data = np.vectorize(lambda x: x.data)\n",
    "\n",
    "def sigmoid(x, s=1, T=1, o=0):\n",
    "        return (s/(1+np.exp(-T*x)))-o\n",
    "\n",
    "def tanh(x):\n",
    "    return sigmoid(x, 2, 2, 1)\n",
    "\n",
    "bce_loss = lambda y_pred, y_true: -np.mean(np.multiply(y_true, np.log(y_pred)) + np.multiply((1 - y_true), np.log(1 - y_pred)))"
   ]
  },
  {
   "cell_type": "markdown",
   "id": "ec991097",
   "metadata": {},
   "source": [
    "Define convolution and pooling functions for the CNN."
   ]
  },
  {
   "cell_type": "code",
   "execution_count": null,
   "id": "9bee9d90-6939-4db4-b76d-503cf827bfa4",
   "metadata": {},
   "outputs": [],
   "source": [
    "def conv2d(image, kernel):\n",
    "    \"\"\"Input of shape (batch_size, x, y, in_channels)\n",
    "    and kernel kernel of shape (x, y, in_channels, out_channels). \n",
    "    Returns shape (batch_size, x, y, out_channels)\"\"\"\n",
    "    batch_size, x_out, y_out, in_channels = image.shape\n",
    "    kx, ky, _, out_channels = kernel.shape\n",
    "\n",
    "    im_col = np.lib.stride_tricks.as_strided(\n",
    "        image,\n",
    "        (batch_size, x_out - kx + 1, y_out - ky + 1, kx, ky, in_channels),\n",
    "        image.strides[:3] + image.strides[1:],\n",
    "        writeable=False,\n",
    "    )\n",
    "\n",
    "    return np.tensordot(im_col, kernel, axes=3)\n",
    "\n",
    "\n",
    "def av_pool(image):\n",
    "    \"\"\"Pools image of shape (batch_size, x, y, channels) down to\n",
    "    (batch_size, x//2, y//2, channels)\"\"\"\n",
    "    return block_reduce(image, (1, 2, 2, 1), np.mean)"
   ]
  },
  {
   "cell_type": "markdown",
   "id": "a775d972",
   "metadata": {},
   "source": [
    "Define the network architecture. This network uses TanH activations between layers and a final logistic sigmoid."
   ]
  },
  {
   "cell_type": "code",
   "execution_count": null,
   "id": "dcbb9faf-23d7-445b-a91b-8b2a2db1d463",
   "metadata": {},
   "outputs": [],
   "source": [
    "SIZE=16 # Image side length (x or y)\n",
    "FILTERS_1 = 8\n",
    "FILTERS_2 = 4"
   ]
  },
  {
   "cell_type": "code",
   "execution_count": null,
   "id": "d0cb3cf5-a3c8-490f-b26f-2fe3c57e3096",
   "metadata": {},
   "outputs": [],
   "source": [
    "x = to_vec(np.array(random_symbols(1*SIZE*SIZE*1, \"x\")).reshape(1,SIZE,SIZE,1))\n",
    "y = to_vec(np.array(random_symbols(1, \"y\")).reshape(1,1))\n",
    "w1 = to_vec(np.array(random_symbols(3*3*FILTERS_1, \"x\")).reshape(3,3,1,FILTERS_1))\n",
    "w2 = to_vec(np.array(random_symbols(3*3*FILTERS_1*FILTERS_2, \"x\")).reshape(3,3,FILTERS_1,FILTERS_2))"
   ]
  },
  {
   "cell_type": "code",
   "execution_count": null,
   "id": "0886d03a-f1f4-45ca-af68-9c2951c6a16d",
   "metadata": {},
   "outputs": [],
   "source": [
    "all_symbols = [symb for symb in np.concatenate((x.flatten(), y.flatten(), w1.flatten(), w2.flatten()))]"
   ]
  },
  {
   "cell_type": "markdown",
   "id": "b6211e1f",
   "metadata": {},
   "source": [
    "Symbolically obtain the network output and gradients"
   ]
  },
  {
   "cell_type": "code",
   "execution_count": null,
   "id": "71b1c6c6-f59a-402d-bc80-82034a654172",
   "metadata": {},
   "outputs": [],
   "source": [
    "conv_1 = tanh(conv2d(x, w1))\n",
    "pool_1 = av_pool(conv_1)\n",
    "conv_2 = tanh(conv2d(pool_1, w2))\n",
    "y_pred = sigmoid(conv_2.mean(axis=(1,2,3)))\n",
    "loss = bce_loss(y_pred, y)"
   ]
  },
  {
   "cell_type": "code",
   "execution_count": null,
   "id": "2e27bf33-0a2e-446f-8fa2-a1102d1fd668",
   "metadata": {},
   "outputs": [],
   "source": [
    "loss.backward()"
   ]
  },
  {
   "cell_type": "code",
   "execution_count": null,
   "id": "9eba5f30-b4c0-49fe-bc49-a424e4e58586",
   "metadata": {},
   "outputs": [],
   "source": [
    "x_grad = np.array([i.grad for i in x.flatten().tolist()])\n",
    "y_grad = np.array([i.grad for i in y.flatten().tolist()])\n",
    "w1_grad = np.array([i.grad for i in w1.flatten().tolist()])\n",
    "w2_grad = np.array([i.grad for i in w2.flatten().tolist()])\n",
    "\n",
    "full_grad = to_vec(np.concatenate((x_grad, y_grad, w1_grad, w2_grad)))"
   ]
  },
  {
   "cell_type": "markdown",
   "id": "c67515c7",
   "metadata": {},
   "source": [
    "Obtain the sensitivity and compile the term for minimsation to calculate the Lipschitz constant."
   ]
  },
  {
   "cell_type": "code",
   "execution_count": null,
   "id": "38788bc3-af2d-4e60-ac9d-a9c441e92bbc",
   "metadata": {},
   "outputs": [],
   "source": [
    "norm = np.linalg.norm(full_grad, ord=2).data #Gradient norm = Sensitivity"
   ]
  },
  {
   "cell_type": "code",
   "execution_count": null,
   "id": "1f5e15ef-9389-4af3-a39e-c2ad00c6418f",
   "metadata": {},
   "outputs": [],
   "source": [
    "neg_norm = se.Lambdify(to_data(all_symbols), -norm, cse=True) #norm for minimisation"
   ]
  },
  {
   "cell_type": "markdown",
   "id": "24f4c113-3846-48f8-ae67-c1a93825d8ed",
   "metadata": {},
   "source": [
    "TanH with constrained inputs"
   ]
  },
  {
   "cell_type": "code",
   "execution_count": null,
   "id": "b040577c-e36d-44bc-9192-a9df440ed016",
   "metadata": {},
   "outputs": [],
   "source": [
    "x_bounds = [(0,1) for _ in range(len(x.flatten()))]\n",
    "y_bounds = [(0,1) for _ in range(len(y.flatten()))]\n",
    "w1_bounds = [(-1,1) for _ in range(len(w1.flatten()))]\n",
    "w2_bounds = [(-1,1) for _ in range(len(w2.flatten()))]\n",
    "all_bounds = x_bounds+y_bounds+w1_bounds+w2_bounds\n",
    "\n",
    "x_initial = [0.5 for _ in range(len(x.flatten()))]\n",
    "y_initial = [0.5 for _ in range(len(y.flatten()))]\n",
    "w1_initial = [0.5 for _ in range(len(w1.flatten()))]\n",
    "w2_initial = [0.5 for _ in range(len(w2.flatten()))]\n",
    "\n",
    "all_initial = np.array(x_initial+y_initial+w1_initial+w2_initial)"
   ]
  },
  {
   "cell_type": "markdown",
   "id": "9f07df11",
   "metadata": {},
   "source": [
    "The formally guaranteed way to obtain the Lipschitz constant is through the global optimum of the function. As SHGO can take a long time to converge, a faster result can be obtained using `minimize`. This is not a guaranteed minimum, however still matches the expected minimum (since we are utilising bounded activation functions)."
   ]
  },
  {
   "cell_type": "code",
   "execution_count": null,
   "id": "554f7a57-25f8-4f8b-927d-0b14f7e41847",
   "metadata": {},
   "outputs": [],
   "source": [
    "sol_m = minimize(neg_norm, bounds=all_bounds, x0=all_initial)"
   ]
  },
  {
   "cell_type": "code",
   "execution_count": null,
   "id": "d3d4e262-d2a7-44ea-9696-4bb8353cbf1a",
   "metadata": {},
   "outputs": [],
   "source": [
    "-sol_m.fun"
   ]
  },
  {
   "cell_type": "markdown",
   "id": "0b29b635",
   "metadata": {},
   "source": [
    "SHGO is provided here for reproducing the paper results."
   ]
  },
  {
   "cell_type": "code",
   "execution_count": null,
   "id": "15a5de2c-6168-4d0d-abcc-cba0ef2be1e3",
   "metadata": {},
   "outputs": [],
   "source": [
    "# sol_s = shgo(neg_norm, bounds=all_bounds)\n",
    "# -sol_s.fun"
   ]
  },
  {
   "cell_type": "markdown",
   "id": "df4a2a65-1953-4859-90ae-121cf57ee34c",
   "metadata": {},
   "source": [
    "The same activation functions with much looser bounds on the inputs should still provide the same Lipschitz constant."
   ]
  },
  {
   "cell_type": "code",
   "execution_count": null,
   "id": "d5864ee4-ef22-4aea-8578-4cbbbc4c9e86",
   "metadata": {},
   "outputs": [],
   "source": [
    "x_bounds = [(-100,100) for _ in range(len(x.flatten()))]\n",
    "y_bounds = [(0,1) for _ in range(len(y.flatten()))]\n",
    "w1_bounds = [(-100,100) for _ in range(len(w1.flatten()))]\n",
    "w2_bounds = [(-100,100) for _ in range(len(w2.flatten()))]\n",
    "all_bounds = x_bounds+y_bounds+w1_bounds+w2_bounds\n",
    "\n",
    "x_initial = [0.5 for _ in range(len(x.flatten()))]\n",
    "y_initial = [0.5 for _ in range(len(y.flatten()))]\n",
    "w1_initial = [0.5 for _ in range(len(w1.flatten()))]\n",
    "w2_initial = [0.5 for _ in range(len(w2.flatten()))]\n",
    "\n",
    "all_initial = np.array(x_initial+y_initial+w1_initial+w2_initial)"
   ]
  },
  {
   "cell_type": "code",
   "execution_count": null,
   "id": "6f581d3b-0f65-4826-b8be-09087e5e16ac",
   "metadata": {},
   "outputs": [],
   "source": [
    "sol_m = minimize(neg_norm, bounds=all_bounds, x0=all_initial)"
   ]
  },
  {
   "cell_type": "code",
   "execution_count": null,
   "id": "c3f25abe-7263-4238-8830-43daec332caa",
   "metadata": {},
   "outputs": [],
   "source": [
    "-sol_m.fun"
   ]
  },
  {
   "cell_type": "code",
   "execution_count": null,
   "id": "211096f1-3f59-481f-b4ca-91dc97a9606d",
   "metadata": {},
   "outputs": [],
   "source": [
    "# sol_s = shgo(neg_norm, bounds=all_bounds)\n",
    "# -sol_s.fun"
   ]
  },
  {
   "cell_type": "markdown",
   "id": "fe0f5a5c-205a-4ddb-b017-ec62aed0dcf3",
   "metadata": {},
   "source": [
    "___"
   ]
  },
  {
   "cell_type": "markdown",
   "id": "4a6f0a73-6f81-44f3-a5a4-62193d7972bc",
   "metadata": {},
   "source": [
    "A different tempered sigmoid activation function can be used, which outputs different activation magnitudes. We use an exemplary tempered sigmoid with values $(5,5,-5)$."
   ]
  },
  {
   "cell_type": "code",
   "execution_count": null,
   "id": "f622313d-a6c5-4699-93a9-1c116b01ed3e",
   "metadata": {},
   "outputs": [],
   "source": [
    "a = np.array([-100, -50, 0, 50, 100])"
   ]
  },
  {
   "cell_type": "code",
   "execution_count": null,
   "id": "04f28e68-aa39-4b7f-a0cb-0f7aad1e9be9",
   "metadata": {},
   "outputs": [],
   "source": [
    "sigmoid(a, 5, 5, -5)"
   ]
  },
  {
   "cell_type": "code",
   "execution_count": null,
   "id": "4599f0ef-9ede-4994-9ef1-6b89f61afd94",
   "metadata": {},
   "outputs": [],
   "source": [
    "conv_1 = sigmoid(conv2d(x, w1), 5, 5, -5)\n",
    "pool_1 = av_pool(conv_1)\n",
    "conv_2 = sigmoid(conv2d(pool_1, w2), 5, 5, -5)\n",
    "y_pred = sigmoid(conv_2.mean(axis=(1,2,3)))\n",
    "loss = bce_loss(y_pred, y)"
   ]
  },
  {
   "cell_type": "code",
   "execution_count": null,
   "id": "52a677e9-8611-457a-b9a2-969a034d92d7",
   "metadata": {},
   "outputs": [],
   "source": [
    "loss.backward()"
   ]
  },
  {
   "cell_type": "code",
   "execution_count": null,
   "id": "bd50c9c5-f98d-4cca-af87-3a39e18ee4e9",
   "metadata": {},
   "outputs": [],
   "source": [
    "x_grad = np.array([i.grad for i in x.flatten().tolist()])\n",
    "y_grad = np.array([i.grad for i in y.flatten().tolist()])\n",
    "w1_grad = np.array([i.grad for i in w1.flatten().tolist()])\n",
    "w2_grad = np.array([i.grad for i in w2.flatten().tolist()])\n",
    "\n",
    "full_grad = to_vec(np.concatenate((x_grad, y_grad, w1_grad, w2_grad)))"
   ]
  },
  {
   "cell_type": "code",
   "execution_count": null,
   "id": "e5095255-7c9d-454c-a2e6-64e5a22f1a4a",
   "metadata": {},
   "outputs": [],
   "source": [
    "norm = np.linalg.norm(full_grad, ord=2).data #Gradient norm = Sensitivity"
   ]
  },
  {
   "cell_type": "code",
   "execution_count": null,
   "id": "157781cb-e07a-441f-a103-e2a74b415815",
   "metadata": {},
   "outputs": [],
   "source": [
    "neg_norm = se.Lambdify(to_data(all_symbols), -norm, cse=True) #norm for minimisation"
   ]
  },
  {
   "cell_type": "markdown",
   "id": "9d65811f-afdb-48a6-8752-270360eaff68",
   "metadata": {},
   "source": [
    "As above, we obtain the Lipschitz function with contstrained and loosely constrained inputs"
   ]
  },
  {
   "cell_type": "code",
   "execution_count": null,
   "id": "91359ec1-55ce-4458-8917-65113afb9e7e",
   "metadata": {},
   "outputs": [],
   "source": [
    "x_bounds = [(0,1) for _ in range(len(x.flatten()))]\n",
    "y_bounds = [(0,1) for _ in range(len(y.flatten()))]\n",
    "w1_bounds = [(-1,1) for _ in range(len(w1.flatten()))]\n",
    "w2_bounds = [(-1,1) for _ in range(len(w2.flatten()))]\n",
    "all_bounds = x_bounds+y_bounds+w1_bounds+w2_bounds\n",
    "\n",
    "x_initial = [0.5 for _ in range(len(x.flatten()))]\n",
    "y_initial = [0.5 for _ in range(len(y.flatten()))]\n",
    "w1_initial = [0.5 for _ in range(len(w1.flatten()))]\n",
    "w2_initial = [0.5 for _ in range(len(w2.flatten()))]\n",
    "\n",
    "all_initial = np.array(x_initial+y_initial+w1_initial+w2_initial)"
   ]
  },
  {
   "cell_type": "code",
   "execution_count": null,
   "id": "52df5cbe-d283-40c2-b4af-02f6feecc573",
   "metadata": {},
   "outputs": [],
   "source": [
    "sol_m = minimize(neg_norm, bounds=all_bounds, x0=all_initial)"
   ]
  },
  {
   "cell_type": "code",
   "execution_count": null,
   "id": "e80d1c70-770b-48a0-b8a4-798b13b2402c",
   "metadata": {},
   "outputs": [],
   "source": [
    "-sol_m.fun"
   ]
  },
  {
   "cell_type": "code",
   "execution_count": null,
   "id": "30b2d351-8853-4b76-9d18-9dd57d296323",
   "metadata": {},
   "outputs": [],
   "source": [
    "# sol_s = shgo(neg_norm, bounds=all_bounds)\n",
    "# -sol_s.fun"
   ]
  },
  {
   "cell_type": "code",
   "execution_count": null,
   "id": "fa31b3a2-9c40-46c3-a7db-9d37afdd1947",
   "metadata": {},
   "outputs": [],
   "source": [
    "x_bounds = [(-100,100) for _ in range(len(x.flatten()))]\n",
    "y_bounds = [(0,1) for _ in range(len(y.flatten()))]\n",
    "w1_bounds = [(-100,100) for _ in range(len(w1.flatten()))]\n",
    "w2_bounds = [(-100,100) for _ in range(len(w2.flatten()))]\n",
    "all_bounds = x_bounds+y_bounds+w1_bounds+w2_bounds\n",
    "\n",
    "x_initial = [0.5 for _ in range(len(x.flatten()))]\n",
    "y_initial = [0.5 for _ in range(len(y.flatten()))]\n",
    "w1_initial = [0.5 for _ in range(len(w1.flatten()))]\n",
    "w2_initial = [0.5 for _ in range(len(w2.flatten()))]\n",
    "\n",
    "all_initial = np.array(x_initial+y_initial+w1_initial+w2_initial)"
   ]
  },
  {
   "cell_type": "code",
   "execution_count": null,
   "id": "30608692-c066-490e-a56e-7389270a358e",
   "metadata": {},
   "outputs": [],
   "source": [
    "sol_m = minimize(neg_norm, bounds=all_bounds, x0=all_initial)"
   ]
  },
  {
   "cell_type": "code",
   "execution_count": null,
   "id": "66864711-26ea-4aa3-98d4-a5762e7b784e",
   "metadata": {},
   "outputs": [],
   "source": [
    "-sol_m.fun"
   ]
  },
  {
   "cell_type": "code",
   "execution_count": null,
   "id": "e531301e-1817-455e-ab21-bfc1397eecf9",
   "metadata": {},
   "outputs": [],
   "source": [
    "# sol_s = shgo(neg_norm, bounds=all_bounds)\n",
    "# -sol_s.fun"
   ]
  }
 ],
 "metadata": {
  "kernelspec": {
   "display_name": "Python 3 (ipykernel)",
   "language": "python",
   "name": "python3"
  },
  "language_info": {
   "codemirror_mode": {
    "name": "ipython",
    "version": 3
   },
   "file_extension": ".py",
   "mimetype": "text/x-python",
   "name": "python",
   "nbconvert_exporter": "python",
   "pygments_lexer": "ipython3",
   "version": "3.8.5"
  }
 },
 "nbformat": 4,
 "nbformat_minor": 5
}
